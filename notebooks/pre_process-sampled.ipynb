{
 "cells": [
  {
   "cell_type": "code",
   "execution_count": 1,
   "id": "77fc5b55-0fcb-4553-9b20-30296637a463",
   "metadata": {},
   "outputs": [],
   "source": [
    "import pandas as pd\n",
    "import regex as re\n",
    "import string"
   ]
  },
  {
   "cell_type": "code",
   "execution_count": 2,
   "id": "aa24777a-28fa-45e1-868a-5aef6718f01c",
   "metadata": {},
   "outputs": [],
   "source": [
    "def clean_text(text):\n",
    "    #lowercase   \n",
    "    text = text.lower()\n",
    "    #remove square brackets\n",
    "    text = re.sub(r'\\[.*?\\]', '', text)\n",
    "    #remove urls   \n",
    "    text = re.sub(r'http\\S+', '', text)\n",
    "    # remove hashtages\n",
    "    text = re.sub(r'#\\S+', '', text)\n",
    "    # remove username reference\n",
    "    text = re.sub(r'@\\S+', '', text)\n",
    "    #remove punctuation   \n",
    "    text = re.sub(r'[%s]' % re.escape(string.punctuation), '', text) \n",
    "    #remove numbers\n",
    "    text = re.sub(r'\\w*\\d\\w*', '', text)\n",
    "\n",
    "    #remove emojis    \n",
    "    patterns = re.compile(pattern = \"[\"\n",
    "        u\"\\U0001F600-\\U0001F64F\" \n",
    "        u\"\\U0001F300-\\U0001F5FF\" \n",
    "        u\"\\U0001F680-\\U0001F6FF\"  \n",
    "        u\"\\U0001F1E0-\\U0001F1FF\"  \n",
    "                           \"]+\", flags = re.UNICODE)\n",
    "    text = patterns.sub(r'', text)\n",
    "    \n",
    "    #remove non letters and spaces \n",
    "    text = re.sub(r'[^a-z\\s]', '', text)\n",
    "    text = re.sub(r'\\s\\s+', ' ', text)\n",
    "\n",
    "    return text\n"
   ]
  },
  {
   "cell_type": "code",
   "execution_count": 3,
   "id": "65daa099-ced3-4075-996b-c50ca36b704d",
   "metadata": {},
   "outputs": [],
   "source": [
    "def sample_and_drop(df, k):\n",
    "    sampled_df = df.sample(k, random_state=666, ignore_index=True)\n",
    "    text_series = sampled_df.loc[:k, 'text']\n",
    "    top = pd.DataFrame(text_series.apply(lambda x: clean_text(x)), dtype=str)\n",
    "    top.drop_duplicates(inplace=True, ignore_index=True)\n",
    "    return top"
   ]
  },
  {
   "cell_type": "code",
   "execution_count": 4,
   "id": "e2064b85-013a-4e11-a17c-fd820cf0586b",
   "metadata": {},
   "outputs": [
    {
     "data": {
      "text/plain": [
       "' stop this war already '"
      ]
     },
     "execution_count": 4,
     "metadata": {},
     "output_type": "execute_result"
    }
   ],
   "source": [
    "clean_text('2342345  !!!! stop this war already ‼️ http://ww.f.d #russiaukraine @potus')"
   ]
  },
  {
   "cell_type": "code",
   "execution_count": 5,
   "id": "6f722923-becb-4a19-912a-1cc5090610e3",
   "metadata": {},
   "outputs": [],
   "source": [
    "df = pd.read_csv('merged_eng_only.csv', low_memory=False, lineterminator='\\n', index_col=0)"
   ]
  },
  {
   "cell_type": "code",
   "execution_count": 6,
   "id": "c0ade837-b648-41c2-a818-2a8403beaadc",
   "metadata": {},
   "outputs": [],
   "source": [
    "sample10k=sample_and_drop(df, 10000)\n",
    "sample50k=sample_and_drop(df, 50000)\n",
    "sample100k=sample_and_drop(df, 100000)\n",
    "sample1m=sample_and_drop(df, 1000000)\n",
    "sample2m=sample_and_drop(df, 2000000)\n",
    "sample5m=sample_and_drop(df, 5000000)\n",
    "sample10m=sample_and_drop(df, 10000000)\n",
    "sample30m=sample_and_drop(df, 30000000)"
   ]
  },
  {
   "cell_type": "code",
   "execution_count": 7,
   "id": "15812fa6-05bc-435a-bd21-62c4601305e2",
   "metadata": {},
   "outputs": [],
   "source": [
    "# do not ucomment unless storing desired \n",
    "suffix='no_hashtags'\n",
    "sample10k.to_csv(f'sample10k_{suffix}.csv', encoding='utf-8')\n",
    "sample50k.to_csv(f'sample50k_{suffix}.csv', encoding='utf-8')\n",
    "sample100k.to_csv(f'sample100k_{suffix}.csv', encoding='utf-8')\n",
    "sample1m.to_csv(f'sample1m_{suffix}.csv', encoding='utf-8')\n",
    "sample2m.to_csv(f'sample2m_{suffix}.csv', encoding='utf-8')\n",
    "sample5m.to_csv(f'sample5m_{suffix}.csv', encoding='utf-8')\n",
    "sample10m.to_csv(f'sample10m_{suffix}.csv', encoding='utf-8')\n",
    "sample30m.to_csv(f'sample30m_{suffix}.csv', encoding='utf-8')"
   ]
  },
  {
   "cell_type": "code",
   "execution_count": 8,
   "id": "d39bd748-6594-4c83-8d0b-7626eb9e188f",
   "metadata": {},
   "outputs": [],
   "source": [
    "# print(f'10k - {sample10k.sample(1).text} ')\n",
    "# print(f'50k - {sample50k.sample(1).text} ')\n",
    "# print(f'100k - {sample100k.sample(1).text} ')\n",
    "# print(f'1m - {sample1m.sample(1).text} ')\n",
    "# print(f'2m - {sample2m.sample(1).text} ')\n",
    "# print(f'5m - {sample5m.sample(1).text} ')\n",
    "# print(f'10m - {sample10m.sample(1).text} ')"
   ]
  },
  {
   "cell_type": "code",
   "execution_count": null,
   "id": "9a693b28-1e3d-45fd-b692-cb1f968d362b",
   "metadata": {},
   "outputs": [],
   "source": []
  }
 ],
 "metadata": {
  "kernelspec": {
   "display_name": "Python 3 (ipykernel)",
   "language": "python",
   "name": "python3"
  },
  "language_info": {
   "codemirror_mode": {
    "name": "ipython",
    "version": 3
   },
   "file_extension": ".py",
   "mimetype": "text/x-python",
   "name": "python",
   "nbconvert_exporter": "python",
   "pygments_lexer": "ipython3",
   "version": "3.10.2"
  }
 },
 "nbformat": 4,
 "nbformat_minor": 5
}
