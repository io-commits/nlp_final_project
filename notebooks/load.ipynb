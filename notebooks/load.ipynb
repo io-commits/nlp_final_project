{
 "cells": [
  {
   "cell_type": "code",
   "execution_count": 1,
   "id": "06aa81fb-695f-41f3-a2bb-5c0745d186b4",
   "metadata": {},
   "outputs": [],
   "source": [
    "import pandas as pd\n",
    "import os\n",
    "import csv\n",
    "from tqdm import tqdm"
   ]
  },
  {
   "cell_type": "code",
   "execution_count": 2,
   "id": "ed2ceff8-89ff-486e-9ccb-4420718d0b13",
   "metadata": {},
   "outputs": [
    {
     "name": "stdout",
     "output_type": "stream",
     "text": [
      "['data/twitter/ukraine_russia_war_tweets/.ipynb_checkpoints', 'data/twitter/ukraine_russia_war_tweets/data']\n"
     ]
    }
   ],
   "source": [
    "tweet_dir_path = 'data/twitter/ukraine_russia_war_tweets'\n",
    "files = os.listdir(tweet_dir_path)\n",
    "paths = [f'{tweet_dir_path}/{f}' for f in files]\n",
    "not_related_dir = [path for path in paths if 'Ukraine' not in path]\n",
    "print(not_related_dir)\n",
    "for d in not_related_dir : paths.remove(d)"
   ]
  },
  {
   "cell_type": "code",
   "execution_count": 19,
   "id": "443a2b05-d0e4-4cdf-b51f-424a47c37658",
   "metadata": {
    "tags": []
   },
   "outputs": [
    {
     "name": "stderr",
     "output_type": "stream",
     "text": [
      "/tmp/ipykernel_212269/2643192078.py:1: DtypeWarning: Columns (15) have mixed types. Specify dtype option on import or set low_memory=False.\n",
      "  pd.read_csv(paths[0], compression='gzip', index_col=0, encoding='utf-8', quoting=csv.QUOTE_ALL).head()\n"
     ]
    },
    {
     "data": {
      "text/html": [
       "<div>\n",
       "<style scoped>\n",
       "    .dataframe tbody tr th:only-of-type {\n",
       "        vertical-align: middle;\n",
       "    }\n",
       "\n",
       "    .dataframe tbody tr th {\n",
       "        vertical-align: top;\n",
       "    }\n",
       "\n",
       "    .dataframe thead th {\n",
       "        text-align: right;\n",
       "    }\n",
       "</style>\n",
       "<table border=\"1\" class=\"dataframe\">\n",
       "  <thead>\n",
       "    <tr style=\"text-align: right;\">\n",
       "      <th></th>\n",
       "      <th>userid</th>\n",
       "      <th>username</th>\n",
       "      <th>acctdesc</th>\n",
       "      <th>location</th>\n",
       "      <th>following</th>\n",
       "      <th>followers</th>\n",
       "      <th>totaltweets</th>\n",
       "      <th>usercreatedts</th>\n",
       "      <th>tweetid</th>\n",
       "      <th>tweetcreatedts</th>\n",
       "      <th>retweetcount</th>\n",
       "      <th>text</th>\n",
       "      <th>hashtags</th>\n",
       "      <th>language</th>\n",
       "      <th>coordinates</th>\n",
       "      <th>favorite_count</th>\n",
       "      <th>extractedts</th>\n",
       "    </tr>\n",
       "  </thead>\n",
       "  <tbody>\n",
       "    <tr>\n",
       "      <th>2976563</th>\n",
       "      <td>398271709</td>\n",
       "      <td>pvergnoux</td>\n",
       "      <td>NaN</td>\n",
       "      <td>Vienne 38</td>\n",
       "      <td>168</td>\n",
       "      <td>11</td>\n",
       "      <td>2226</td>\n",
       "      <td>2011-10-25 20:37:59.000000</td>\n",
       "      <td>1500623356395147275</td>\n",
       "      <td>2022-03-07 00:04:23</td>\n",
       "      <td>87</td>\n",
       "      <td>Oui, il faut accueillir les Ukrainiens et les ...</td>\n",
       "      <td>[{'text': 'UkraineRussianWar', 'indices': [105...</td>\n",
       "      <td>fr</td>\n",
       "      <td>NaN</td>\n",
       "      <td>0</td>\n",
       "      <td>2022-03-07 00:08:31.062033</td>\n",
       "    </tr>\n",
       "    <tr>\n",
       "      <th>2976564</th>\n",
       "      <td>629751550</td>\n",
       "      <td>Mykiwitwit</td>\n",
       "      <td>Twitter is a forum - NOT a right to say whatev...</td>\n",
       "      <td>NaN</td>\n",
       "      <td>82</td>\n",
       "      <td>519</td>\n",
       "      <td>366013</td>\n",
       "      <td>2012-07-08 00:08:13.000000</td>\n",
       "      <td>1500623356604796929</td>\n",
       "      <td>2022-03-07 00:04:23</td>\n",
       "      <td>0</td>\n",
       "      <td>@CREWcrew @gtconway3d #Putinisawarcriminal #Pu...</td>\n",
       "      <td>[{'text': 'Putinisawarcriminal', 'indices': [2...</td>\n",
       "      <td>und</td>\n",
       "      <td>NaN</td>\n",
       "      <td>0</td>\n",
       "      <td>2022-03-07 00:08:31.053938</td>\n",
       "    </tr>\n",
       "    <tr>\n",
       "      <th>2976565</th>\n",
       "      <td>73303882</td>\n",
       "      <td>arthidalgo</td>\n",
       "      <td>I am the eye in the sky looking at you. I can ...</td>\n",
       "      <td>NaN</td>\n",
       "      <td>2536</td>\n",
       "      <td>3320</td>\n",
       "      <td>27420</td>\n",
       "      <td>2009-09-11 03:56:49.000000</td>\n",
       "      <td>1500623356671967232</td>\n",
       "      <td>2022-03-07 00:04:23</td>\n",
       "      <td>0</td>\n",
       "      <td>\"Un miembro del personal se muda al recinto de...</td>\n",
       "      <td>[{'text': 'Ucrania', 'indices': [257, 265]}, {...</td>\n",
       "      <td>es</td>\n",
       "      <td>NaN</td>\n",
       "      <td>2</td>\n",
       "      <td>2022-03-07 00:08:31.045836</td>\n",
       "    </tr>\n",
       "    <tr>\n",
       "      <th>2976566</th>\n",
       "      <td>1220287961167581185</td>\n",
       "      <td>RasTolko</td>\n",
       "      <td>I'm not special at all.</td>\n",
       "      <td>NaN</td>\n",
       "      <td>300</td>\n",
       "      <td>12</td>\n",
       "      <td>5013</td>\n",
       "      <td>2020-01-23 10:12:25.000000</td>\n",
       "      <td>1500623356718362624</td>\n",
       "      <td>2022-03-07 00:04:23</td>\n",
       "      <td>10903</td>\n",
       "      <td>‼️Antony Blinken: The U.S. has given the “gree...</td>\n",
       "      <td>[]</td>\n",
       "      <td>en</td>\n",
       "      <td>NaN</td>\n",
       "      <td>0</td>\n",
       "      <td>2022-03-07 00:08:31.037707</td>\n",
       "    </tr>\n",
       "    <tr>\n",
       "      <th>2976567</th>\n",
       "      <td>1210926500704243712</td>\n",
       "      <td>patriciaselfies</td>\n",
       "      <td>hair is my passion! shine your light. resist💙....</td>\n",
       "      <td>United States</td>\n",
       "      <td>15999</td>\n",
       "      <td>16318</td>\n",
       "      <td>84961</td>\n",
       "      <td>2019-12-28 14:12:50.000000</td>\n",
       "      <td>1500623356919529480</td>\n",
       "      <td>2022-03-07 00:04:23</td>\n",
       "      <td>8</td>\n",
       "      <td>Remember ⁦@RonJohnsonWI⁩      that Dumpy withh...</td>\n",
       "      <td>[{'text': 'Ukraine', 'indices': [82, 90]}]</td>\n",
       "      <td>en</td>\n",
       "      <td>NaN</td>\n",
       "      <td>0</td>\n",
       "      <td>2022-03-07 00:08:31.029593</td>\n",
       "    </tr>\n",
       "  </tbody>\n",
       "</table>\n",
       "</div>"
      ],
      "text/plain": [
       "                      userid         username  \\\n",
       "2976563            398271709        pvergnoux   \n",
       "2976564            629751550       Mykiwitwit   \n",
       "2976565             73303882       arthidalgo   \n",
       "2976566  1220287961167581185         RasTolko   \n",
       "2976567  1210926500704243712  patriciaselfies   \n",
       "\n",
       "                                                  acctdesc       location  \\\n",
       "2976563                                                NaN      Vienne 38   \n",
       "2976564  Twitter is a forum - NOT a right to say whatev...            NaN   \n",
       "2976565  I am the eye in the sky looking at you. I can ...            NaN   \n",
       "2976566                            I'm not special at all.            NaN   \n",
       "2976567  hair is my passion! shine your light. resist💙....  United States   \n",
       "\n",
       "         following  followers  totaltweets               usercreatedts  \\\n",
       "2976563        168         11         2226  2011-10-25 20:37:59.000000   \n",
       "2976564         82        519       366013  2012-07-08 00:08:13.000000   \n",
       "2976565       2536       3320        27420  2009-09-11 03:56:49.000000   \n",
       "2976566        300         12         5013  2020-01-23 10:12:25.000000   \n",
       "2976567      15999      16318        84961  2019-12-28 14:12:50.000000   \n",
       "\n",
       "                     tweetid       tweetcreatedts  retweetcount  \\\n",
       "2976563  1500623356395147275  2022-03-07 00:04:23            87   \n",
       "2976564  1500623356604796929  2022-03-07 00:04:23             0   \n",
       "2976565  1500623356671967232  2022-03-07 00:04:23             0   \n",
       "2976566  1500623356718362624  2022-03-07 00:04:23         10903   \n",
       "2976567  1500623356919529480  2022-03-07 00:04:23             8   \n",
       "\n",
       "                                                      text  \\\n",
       "2976563  Oui, il faut accueillir les Ukrainiens et les ...   \n",
       "2976564  @CREWcrew @gtconway3d #Putinisawarcriminal #Pu...   \n",
       "2976565  \"Un miembro del personal se muda al recinto de...   \n",
       "2976566  ‼️Antony Blinken: The U.S. has given the “gree...   \n",
       "2976567  Remember ⁦@RonJohnsonWI⁩      that Dumpy withh...   \n",
       "\n",
       "                                                  hashtags language  \\\n",
       "2976563  [{'text': 'UkraineRussianWar', 'indices': [105...       fr   \n",
       "2976564  [{'text': 'Putinisawarcriminal', 'indices': [2...      und   \n",
       "2976565  [{'text': 'Ucrania', 'indices': [257, 265]}, {...       es   \n",
       "2976566                                                 []       en   \n",
       "2976567         [{'text': 'Ukraine', 'indices': [82, 90]}]       en   \n",
       "\n",
       "        coordinates  favorite_count                 extractedts  \n",
       "2976563         NaN               0  2022-03-07 00:08:31.062033  \n",
       "2976564         NaN               0  2022-03-07 00:08:31.053938  \n",
       "2976565         NaN               2  2022-03-07 00:08:31.045836  \n",
       "2976566         NaN               0  2022-03-07 00:08:31.037707  \n",
       "2976567         NaN               0  2022-03-07 00:08:31.029593  "
      ]
     },
     "execution_count": 19,
     "metadata": {},
     "output_type": "execute_result"
    }
   ],
   "source": [
    "pd.read_csv(paths[0], compression='gzip', index_col=0, encoding='utf-8', quoting=csv.QUOTE_ALL).head()"
   ]
  },
  {
   "cell_type": "code",
   "execution_count": 3,
   "id": "6823c547-4324-4f2c-bcda-f83df45e6e4f",
   "metadata": {},
   "outputs": [
    {
     "name": "stderr",
     "output_type": "stream",
     "text": [
      "100%|███████████████████████████████████████████████████████████████████████████████████████████████████████████████████| 139/139 [13:26<00:00,  5.80s/it]\n"
     ]
    }
   ],
   "source": [
    "entire_df = pd.DataFrame()\n",
    "for path in tqdm(paths):\n",
    "    df = pd.read_csv(path, compression='gzip', index_col=0, encoding='utf-8', quoting=csv.QUOTE_ALL, low_memory=False)\n",
    "    en_only = df[df['language']=='en']\n",
    "    entire_df = pd.concat([entire_df, en_only.loc[:,['text','retweetcount']]], ignore_index=True)\n",
    "entire_df.to_csv('merged_eng_enly_retweetcount.csv')"
   ]
  },
  {
   "cell_type": "code",
   "execution_count": 4,
   "id": "edfc6c56-8196-4bee-914e-2efefab38847",
   "metadata": {},
   "outputs": [
    {
     "name": "stderr",
     "output_type": "stream",
     "text": [
      "100%|███████████████████████████████████████████████████████████████████████████████████████████████████████████████████| 139/139 [10:51<00:00,  4.69s/it]\n"
     ]
    }
   ],
   "source": [
    "# lst = []\n",
    "# for path in tqdm(paths):\n",
    "#     df = pd.read_csv(path, compression='gzip', index_col=0, encoding='utf-8', quoting=csv.QUOTE_ALL, low_memory=False)\n",
    "#     en_only = df[df['language']=='en']\n",
    "#     for t in en_only.loc[:,'text'] : lst.append(t)"
   ]
  },
  {
   "cell_type": "code",
   "execution_count": 5,
   "id": "ae144c94-74c7-4bc4-916d-21148311b43c",
   "metadata": {
    "tags": []
   },
   "outputs": [
    {
     "data": {
      "text/plain": [
       "'This, out of #Ukraine, is 100% one of the most incredible videos I have ever seen.\\n\\nThis Russian POW has the heart of a lion 🦁 https://t.co/KIx1rsN0CZ'"
      ]
     },
     "execution_count": 5,
     "metadata": {},
     "output_type": "execute_result"
    }
   ],
   "source": [
    "lst[6]"
   ]
  },
  {
   "cell_type": "code",
   "execution_count": 8,
   "id": "e7a18e8d-bbec-4d90-bd50-e92bc4f214c3",
   "metadata": {},
   "outputs": [],
   "source": [
    "df = pd.DataFrame(lst, columns=['text'])\n",
    "df.to_csv('merged_eng_only.csv', encoding='utf-8')"
   ]
  },
  {
   "cell_type": "code",
   "execution_count": 9,
   "id": "0ed035bb-2f11-46a7-ac2b-a898a5a9a4ae",
   "metadata": {},
   "outputs": [
    {
     "data": {
      "text/plain": [
       "Index(['text'], dtype='object')"
      ]
     },
     "execution_count": 9,
     "metadata": {},
     "output_type": "execute_result"
    }
   ],
   "source": [
    "df.columns"
   ]
  },
  {
   "cell_type": "code",
   "execution_count": 10,
   "id": "835e5860-ed79-42b4-a26d-3ce7e510123b",
   "metadata": {},
   "outputs": [
    {
     "data": {
      "text/plain": [
       "30895671"
      ]
     },
     "execution_count": 10,
     "metadata": {},
     "output_type": "execute_result"
    }
   ],
   "source": [
    "len(df.index)"
   ]
  }
 ],
 "metadata": {
  "kernelspec": {
   "display_name": "Python 3 (ipykernel)",
   "language": "python",
   "name": "python3"
  },
  "language_info": {
   "codemirror_mode": {
    "name": "ipython",
    "version": 3
   },
   "file_extension": ".py",
   "mimetype": "text/x-python",
   "name": "python",
   "nbconvert_exporter": "python",
   "pygments_lexer": "ipython3",
   "version": "3.10.1"
  }
 },
 "nbformat": 4,
 "nbformat_minor": 5
}
